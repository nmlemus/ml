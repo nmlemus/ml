{
 "cells": [
  {
   "cell_type": "markdown",
   "id": "56a9bab1-c9a4-4ad5-8543-fe5d0e9dac04",
   "metadata": {},
   "source": [
    "# Tensorflow Training: \n",
    "## Basic Commands\n",
    "\n"
   ]
  },
  {
   "cell_type": "code",
   "execution_count": 1,
   "id": "96fb2d53-bca0-4122-9b9d-5e46a293688e",
   "metadata": {},
   "outputs": [],
   "source": [
    "# Import libraries\n",
    "\n",
    "import tensorflow as tf\n",
    "import numpy as np"
   ]
  },
  {
   "cell_type": "markdown",
   "id": "78fbbc7e-507a-48ce-9a14-1f62026ace7f",
   "metadata": {},
   "source": [
    "_____\n",
    "# How to represent vectors and matrix"
   ]
  },
  {
   "cell_type": "code",
   "execution_count": 2,
   "id": "abc5b8bb-480e-4d6c-8a10-90e5cebd75e6",
   "metadata": {},
   "outputs": [
    {
     "data": {
      "text/plain": [
       "[1, 2, 3]"
      ]
     },
     "execution_count": 2,
     "metadata": {},
     "output_type": "execute_result"
    }
   ],
   "source": [
    "# A vector\n",
    "v1 = [1, 2, 3]\n",
    "v2 = [4, 5, 6]\n",
    "\n",
    "v1"
   ]
  },
  {
   "cell_type": "code",
   "execution_count": 3,
   "id": "2e6e4c28-f591-4d59-8e77-0bf68facfa2e",
   "metadata": {},
   "outputs": [
    {
     "data": {
      "text/plain": [
       "[[1, 2, 3], [4, 5, 6]]"
      ]
     },
     "execution_count": 3,
     "metadata": {},
     "output_type": "execute_result"
    }
   ],
   "source": [
    "# A Matrix is represented as a set of vectors, where each vector is a row\n",
    "\n",
    "m1 = [v1,\n",
    "      v2]\n",
    "m1"
   ]
  },
  {
   "cell_type": "code",
   "execution_count": 4,
   "id": "dc30ea3d-1202-437b-80d9-660711ef7ccc",
   "metadata": {},
   "outputs": [
    {
     "data": {
      "text/plain": [
       "array([[1., 2., 3.],\n",
       "       [4., 5., 6.]], dtype=float32)"
      ]
     },
     "execution_count": 4,
     "metadata": {},
     "output_type": "execute_result"
    }
   ],
   "source": [
    "# Or using numpy\n",
    "\n",
    "m2 = np.array([v1, v2], dtype=np.float32)\n",
    "m2"
   ]
  },
  {
   "cell_type": "code",
   "execution_count": 5,
   "id": "65d1816c-8605-4971-b029-c92a7ae656ae",
   "metadata": {},
   "outputs": [
    {
     "name": "stderr",
     "output_type": "stream",
     "text": [
      "2022-09-21 01:21:58.473534: I tensorflow/core/platform/cpu_feature_guard.cc:145] This TensorFlow binary is optimized with Intel(R) MKL-DNN to use the following CPU instructions in performance critical operations:  SSE4.1 SSE4.2 AVX AVX2 FMA\n",
      "To enable them in non-MKL-DNN operations, rebuild TensorFlow with the appropriate compiler flags.\n",
      "2022-09-21 01:21:58.474291: I tensorflow/core/common_runtime/process_util.cc:115] Creating new thread pool with default inter op setting: 4. Tune using inter_op_parallelism_threads for best performance.\n"
     ]
    }
   ],
   "source": [
    "# Using Tensorflow\n",
    "m3 = tf.constant([[1.0, 2.0],\n",
    "                  [3.0, 4.0]])"
   ]
  },
  {
   "cell_type": "code",
   "execution_count": 6,
   "id": "c651827c-044f-454f-8a29-844ffca80a27",
   "metadata": {},
   "outputs": [
    {
     "name": "stdout",
     "output_type": "stream",
     "text": [
      "[[1, 2, 3], [4, 5, 6]]\n",
      "[[1. 2. 3.]\n",
      " [4. 5. 6.]]\n",
      "tf.Tensor(\n",
      "[[1. 2.]\n",
      " [3. 4.]], shape=(2, 2), dtype=float32)\n"
     ]
    }
   ],
   "source": [
    "print(m1)\n",
    "print(m2)\n",
    "print(m3)"
   ]
  },
  {
   "cell_type": "code",
   "execution_count": 7,
   "id": "9cb93409-5c2a-4b8d-9364-494ba9d3f80f",
   "metadata": {},
   "outputs": [],
   "source": [
    "# Creates tensor objects from the various types\n",
    "\n",
    "t1 = tf.convert_to_tensor(m1, dtype=tf.float32)\n",
    "t2 = tf.convert_to_tensor(m2, dtype=tf.float32)\n",
    "t3 = tf.convert_to_tensor(m3, dtype=tf.float32)"
   ]
  },
  {
   "cell_type": "code",
   "execution_count": 8,
   "id": "53c78006-96e3-47a9-8082-6e26b5d2df98",
   "metadata": {},
   "outputs": [
    {
     "name": "stdout",
     "output_type": "stream",
     "text": [
      "<class 'tensorflow.python.framework.ops.EagerTensor'>\n",
      "<class 'tensorflow.python.framework.ops.EagerTensor'>\n",
      "<class 'tensorflow.python.framework.ops.EagerTensor'>\n"
     ]
    }
   ],
   "source": [
    "print(type(t1))\n",
    "print(type(t2))\n",
    "print(type(t3))"
   ]
  },
  {
   "cell_type": "markdown",
   "id": "6f68a38d-ffc5-4dfe-b8bd-e8797da30033",
   "metadata": {},
   "source": [
    "## Tensors of Different Dimensions"
   ]
  },
  {
   "cell_type": "code",
   "execution_count": 9,
   "id": "b30dd647-74bd-4f4a-983d-990346f324bd",
   "metadata": {},
   "outputs": [],
   "source": [
    "# Defines a 2 × 1 matrix of rank 2\n",
    "\n",
    "m1 = tf.constant([[1., 2.]])"
   ]
  },
  {
   "cell_type": "code",
   "execution_count": 10,
   "id": "e3d204f1-85f5-4263-bfde-e720bd673f1e",
   "metadata": {},
   "outputs": [],
   "source": [
    "# Defines a 1 × 2 matrix of rank 2\n",
    "\n",
    "m2 = tf.constant([[1], [2]])"
   ]
  },
  {
   "cell_type": "code",
   "execution_count": 11,
   "id": "0c56ce29-6909-4b90-835a-4e09a5bdde74",
   "metadata": {},
   "outputs": [],
   "source": [
    "# Defines a rank-3 tensor\n",
    "\n",
    "m3 = tf.constant([ [[1,2],\n",
    "                    [3,4],\n",
    "                    [5,6]],\n",
    "                    [[7,8],\n",
    "                    [9,10],\n",
    "                    [11,12]] ])"
   ]
  },
  {
   "cell_type": "code",
   "execution_count": 12,
   "id": "936fdcb6-d733-409f-8176-ba2afafab27a",
   "metadata": {},
   "outputs": [
    {
     "name": "stdout",
     "output_type": "stream",
     "text": [
      "tf.Tensor([[1. 2.]], shape=(1, 2), dtype=float32)\n",
      "tf.Tensor(\n",
      "[[1]\n",
      " [2]], shape=(2, 1), dtype=int32)\n",
      "tf.Tensor(\n",
      "[[[ 1  2]\n",
      "  [ 3  4]\n",
      "  [ 5  6]]\n",
      "\n",
      " [[ 7  8]\n",
      "  [ 9 10]\n",
      "  [11 12]]], shape=(2, 3, 2), dtype=int32)\n"
     ]
    }
   ],
   "source": [
    "print(m1)\n",
    "print(m2)\n",
    "print(m3)"
   ]
  },
  {
   "cell_type": "code",
   "execution_count": 13,
   "id": "453fd814-f606-48b0-853d-449c8fca089c",
   "metadata": {},
   "outputs": [
    {
     "data": {
      "text/plain": [
       "<tf.Tensor: id=17, shape=(), dtype=int32, numpy=2>"
      ]
     },
     "execution_count": 13,
     "metadata": {},
     "output_type": "execute_result"
    }
   ],
   "source": [
    "# How to access the elements inside the tensor\n",
    "\n",
    "m3[0][0][1]"
   ]
  },
  {
   "cell_type": "code",
   "execution_count": 14,
   "id": "0e8038d1-09c2-4426-8ea9-f137f91d75d3",
   "metadata": {},
   "outputs": [
    {
     "name": "stdout",
     "output_type": "stream",
     "text": [
      "tf.Tensor([[-1 -2]], shape=(1, 2), dtype=int32)\n"
     ]
    }
   ],
   "source": [
    "# Operators\n",
    "\n",
    "x = tf.constant([[1, 2]])\n",
    "negMatrix = tf.negative(x)\n",
    "print(negMatrix)"
   ]
  },
  {
   "cell_type": "code",
   "execution_count": 40,
   "id": "8041274d-b9f6-4611-8b9b-90dd06407470",
   "metadata": {},
   "outputs": [
    {
     "name": "stdout",
     "output_type": "stream",
     "text": [
      "0\n",
      "0.3989423\n",
      "0.5\n",
      "0.35206532\n",
      "1\n",
      "0.24197073\n",
      "1.5\n",
      "0.1295176\n",
      "2\n",
      "0.053990968\n"
     ]
    }
   ],
   "source": [
    "# Gaussian Distribution with Tensorflow\n",
    "\n",
    "from math import pi\n",
    "mean = 0.0\n",
    "sigma = 1.0\n",
    "for x in [0, 0.5, 1, 1.5, 2]:\n",
    "    print(x)\n",
    "    print((tf.exp(tf.negative(tf.pow(x - mean, 2.0) / (2.0 * tf.pow(sigma, 2.0) ))) * (1.0 / (sigma * tf.sqrt(2.0 * pi) ))).numpy())"
   ]
  },
  {
   "cell_type": "code",
   "execution_count": null,
   "id": "cd0614ca-d427-40ee-a5cb-a5bea2a44194",
   "metadata": {},
   "outputs": [],
   "source": []
  },
  {
   "cell_type": "code",
   "execution_count": null,
   "id": "8cf9e3d2-d080-459d-8374-ad51a47fedb6",
   "metadata": {},
   "outputs": [],
   "source": []
  },
  {
   "cell_type": "code",
   "execution_count": null,
   "id": "78bc16b2-48f1-40fb-a9a0-30b0388514ca",
   "metadata": {},
   "outputs": [],
   "source": []
  },
  {
   "cell_type": "code",
   "execution_count": null,
   "id": "160740a9-5805-4635-9787-d5e989caa149",
   "metadata": {},
   "outputs": [],
   "source": []
  },
  {
   "cell_type": "code",
   "execution_count": null,
   "id": "12c0bafb-f741-4459-a260-e16ef6722245",
   "metadata": {},
   "outputs": [],
   "source": []
  }
 ],
 "metadata": {
  "kernelspec": {
   "display_name": "Python 3 (ipykernel)",
   "language": "python",
   "name": "python3"
  },
  "language_info": {
   "codemirror_mode": {
    "name": "ipython",
    "version": 3
   },
   "file_extension": ".py",
   "mimetype": "text/x-python",
   "name": "python",
   "nbconvert_exporter": "python",
   "pygments_lexer": "ipython3",
   "version": "3.7.13"
  }
 },
 "nbformat": 4,
 "nbformat_minor": 5
}
